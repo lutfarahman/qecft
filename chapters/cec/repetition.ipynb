{
 "cells": [
  {
   "cell_type": "markdown",
   "id": "a23fe73c",
   "metadata": {
    "tags": []
   },
   "source": [
    "# Error-correction by repetition"
   ]
  },
  {
   "cell_type": "markdown",
   "id": "b00286a1",
   "metadata": {
    "tags": [
     "remove-cell"
    ]
   },
   "source": [
    "<div style=\"width:100%;text-align:right;font-size:0.75em;opacity:0.2\">Latex macros</div>\n",
    "$\\newcommand{\\vec}[1]{\\mathbf{#1}}$\n",
    "$\\newcommand{\\ket}[1]{|#1\\rangle}$\n",
    "$\\newcommand{\\bra}[1]{\\langle #1|}$\n",
    "$\\newcommand{\\iu}{{i\\mkern1mu}}$\n",
    "$ \\newcommand{\\e}{\\mathrm{e}}$\n",
    "$\\newcommand{\\bigo}{\\mathcal{O}}$\n",
    "$\\newcommand{\\set}[1]{\\{#1\\}}$\n",
    "$\\newcommand{\\oper}[1]{\\mathcal{#1}}$\n",
    "$\\newcommand{\\st}[1]{\\mathcal{#1}}$\n",
    "$\\newcommand{\\vecs}[1]{\\mathcal{#1}}$\n",
    "$\\newcommand{\\group}[1]{\\mathcal{#1}}$\n",
    "$\\newcommand{\\union}{\\hspace{0.25em}\\cup\\hspace{0.25em}}$"
   ]
  },
  {
   "cell_type": "markdown",
   "id": "583107a7-08f1-4146-b935-f3f30bad4aab",
   "metadata": {},
   "source": [
    "Classical error-correction is a rich and old field which has produced many procedures for error-correction. To begin our journey through this field, we will start with the simplest possible method of error-correction. This method is called *repetition code*. The term 'code' refers to a mathematical object, which we will look at in more detail later on. For now, we will concentrate on what Alice and Bob do."
   ]
  },
  {
   "cell_type": "markdown",
   "id": "609e20c6-9293-4d11-9bf3-0308eb7fa9e1",
   "metadata": {},
   "source": [
    "## When Alice and Bob don't use any error correction\n",
    "\n",
    "Let us go back to scenario we created last time, and concretely work out what happens when Alice and Bob don't use any error correction.\n",
    "\n",
    "![Error correction model](../../images/noclassicalerrorcorrection.png)\n",
    "\n",
    "Alice wants to transmit a length-$k$ message $\\vec{m}$, which is a sequence of bits. When she sends it, it gets distorted by noise $\\vec{e}$, and what Bob receives is $\\vec{\\tilde{m}} = \\vec{m} + \\vec{e}$.\n",
    "\n",
    "In general $\\vec{e}$ can be any bit string, but lets define a simple yet realistic model for the kind of transmission noise we encounter in the real world. We assume that if we send a bit $m_i$ through the channel, with probability $p$ the bit will be flipped, and with probability $1-p$ it is not flipped. If we send multiple bits through the channel, each one is independently flipped with probability $p$. This means that \n",
    "\\begin{equation}\n",
    " e_i = \\begin{cases}\n",
    " 1 \\quad\\text{with prob $p$},\\\\\n",
    " 0 \\quad\\text{with prob $1-p$},\n",
    " \\end{cases}\n",
    "\\end{equation}\n",
    "where the value of each $e_i$ is independently set from the others."
   ]
  },
  {
   "cell_type": "markdown",
   "id": "f5ade903-190a-4e32-bee6-ff34d704e3ca",
   "metadata": {},
   "source": [
    "Now, suppose that Bob receives the message $\\vec{\\tilde{m}} = 100$ from Alice. What can Bob infer from this? He doesn't know if any of the bits were flipped, so he can't say for sure that this is indeed the message that Alice wanted to send. The most he can infer is that each bit has $1-p$ chance of not getting flipped, so there is a $(1-p)^3$ that he received the right message. On the other hand, there is a $1-(1-p)^3$ chance he received the wrong message."
   ]
  },
  {
   "cell_type": "markdown",
   "id": "2038250c-732d-4264-b99e-56b1c5d03ff6",
   "metadata": {},
   "source": [
    "## Can Alice and Bob do better? \n",
    "\n",
    "To do better, Alice and Bob must do something other than just sending the message. The simplest process is one you are already familiar with, if you have ever talked to someone on the phone with a bad connection. To make sure they hear what you have to say, you repeat yourself a few times. More abstractly, you usually send a longer message from which it is easier for the person on the other end to infer what you said correctly. This abstract process is shown below.\n",
    "\n",
    "![Error correction model](../../images/classicalerrorcorrectionmodel.png)\n",
    "\n",
    "Instead of sending $\\vec{m}$, Alice transforms her message into a longer bit-string called the *codeword* $\\vec{c}$. This process is called *encoding*. She then sends this through the channel. On the other end, Bob receives a corrupted codeword $\\vec{\\tilde{c}}$. He subjects it to a process called *decoding*. If all goes well, then with higher probability than $(1-p)^k$, he will recover the correct message, i.e. $\\vec{\\hat{m}} = \\vec{m}$. However, note that there will always be some non-zero chance of making a mistake, $\\vec{\\hat{m}} \\ne \\vec{m}$."
   ]
  },
  {
   "cell_type": "markdown",
   "id": "d61632b1-5e62-4e1d-bf7b-1ebdd5d874f8",
   "metadata": {},
   "source": [
    "## Detecting and correcting by repetition\n",
    "The process of detecting and correcting errors by repetition is as follows. Alice takes each bit $m_i$ in the message one by one. For each bit, if it has value $0$, Alice sends the *block* of bits $000$, and if it has value $1$, Alice sends the block $111$. Therefore, the codeword $\\vec{c}$ will have length $n=3k$.\n",
    "\n",
    "An alternate notation we will use throughout this book is to write messages with a bar on top, and write the codeword without any bars. For example, here we can simply write\n",
    "$$\n",
    "\\bar{0} = 000, \\quad \\bar{1} = 111.\n",
    "$$\n",
    "\n",
    "Using the above process if the message is $\\overline{1010}$ then Alice sends $111000111000$.\n",
    "\n",
    "Suppose, that Bob receives the corrupted code-stream $101100111000$, in which the second and fourth bits have been flipped by the noisy channel. He, of course, doesn't know which bits have been flipped. \n",
    "\n",
    "To correct any errors, he will apply a *majority voting algorithm* to each block of three bits in the corrupted codeword. The first block is $101$, and since there are two 1s in it and one 0, he infers that the first sent bit is likely to be $\\overline{1}$. Similarly, he infers from the second, third and fourth blocks of three, that the second, third and fourth bits are likely to be 0, 1 and 0, respectively. Hence, he correctly decodes the message to message was $\\overline{1010}$.\n",
    "\n",
    "Notice that this method only works if there is at most one bit flip in each block of three. If there are two or more flips in a block, then Bob inferred bit string will be different from the one Alice intended to send. For example, if the corrupted code-string was $101110111000$, then using the same algorithm Bob infers that that message was $1110$.\n",
    "\n",
    "*Question:* What is the encoding of $\\overline{011}$?"
   ]
  },
  {
   "cell_type": "markdown",
   "id": "44c66ada-932f-43a0-a80f-2b3c53ec6469",
   "metadata": {},
   "source": [
    "To make sure you understand the above process, you will now implement it as computer code."
   ]
  },
  {
   "cell_type": "markdown",
   "id": "0722dfb8-5302-4750-a1d4-79883b8c2f96",
   "metadata": {},
   "source": [
    "#### Task 1\n",
    "Complete the function `repetition_encode` that when passed a bit string, encodes it according to the repetition code.\n",
    "\n",
    "* Parameters:\\\n",
    "  `message`: a `str` of any length, guaranteed to only contain 0 or 1.\n",
    "* Returns:\\\n",
    "  `codeword`: a `str` that is the the encoded version of the `message`. Must have length three times the length of `message`."
   ]
  },
  {
   "cell_type": "code",
   "execution_count": 1,
   "id": "3f56076e-8473-4c30-aaa9-ff86a1530d84",
   "metadata": {},
   "outputs": [
    {
     "data": {
      "text/plain": [
       "'111'"
      ]
     },
     "execution_count": 1,
     "metadata": {},
     "output_type": "execute_result"
    }
   ],
   "source": [
    "def repetition_encode(data_stream):\n",
    "    result = ''                     \n",
    "    \n",
    "    for i in range(len(data_stream)):  #loop through the length of the string 'message'\n",
    "             \n",
    "        if data_stream[i] == '0':     #If the string is '0' then encode it to '000'\n",
    "            result += '000'\n",
    "        elif data_stream[i] == '1':  #If the string is '1' then encode it to '111'          \n",
    "            result += '111'      \n",
    "        \n",
    "    return result    \n",
    "    \n",
    "repetition_encode('1')"
   ]
  },
  {
   "cell_type": "code",
   "execution_count": 2,
   "id": "2f9240b9-cbcb-4ebd-914e-f274eb62ce1c",
   "metadata": {},
   "outputs": [
    {
     "name": "stdout",
     "output_type": "stream",
     "text": [
      "000 000000000\n",
      "001 000000111\n",
      "010 000111000\n",
      "011 000111111\n",
      "100 111000000\n",
      "101 111000111\n",
      "110 111111000\n",
      "111 111111111\n"
     ]
    }
   ],
   "source": [
    "# check your solution\n",
    "k = 3\n",
    "for i in range(2**k):\n",
    "    message = bin(i)[2:].zfill(k)\n",
    "    codeword = repetition_encode(message)\n",
    "    print(message, codeword)"
   ]
  },
  {
   "cell_type": "markdown",
   "id": "c5d7b9fa-30df-4f8c-81eb-3395daf55c5e",
   "metadata": {},
   "source": [
    "The process the Bob uses to check and correct for errors is called *decoding*. "
   ]
  },
  {
   "cell_type": "markdown",
   "id": "cfa8f69d-9b59-4aef-acf2-303f1a2e3501",
   "metadata": {
    "tags": []
   },
   "source": [
    "#### Task 2\n",
    "Complete the function `repetition_decode` that when passed a corrupted codeword, decodes it according to the repetition code. This include identifying any errors and correcting for them.\n",
    "\n",
    "* Parameters:\\\n",
    "  `codeword`: a `str`, guaranteed to only contain 0 or 1, and length divisible by 3.\n",
    "* Returns:\\\n",
    "  `estimated_message`: a `str` that is the the decoded version of the `codeword`"
   ]
  },
  {
   "cell_type": "code",
   "execution_count": 3,
   "id": "3704c2fd-ee8a-4ac1-8758-d00c5a0ab719",
   "metadata": {},
   "outputs": [
    {
     "data": {
      "text/plain": [
       "'00101'"
      ]
     },
     "execution_count": 3,
     "metadata": {},
     "output_type": "execute_result"
    }
   ],
   "source": [
    "def repetition_decode(codeword):\n",
    "    decode = '' \n",
    "    \n",
    "    for i in range(0,len(codeword),3):\n",
    "        string_chunk = codeword[i:i+3]\n",
    "        a = string_chunk.count('1')\n",
    "        if a>= 2:\n",
    "            decode+= '1'\n",
    "        else:\n",
    "            decode+= '0'\n",
    "            \n",
    "    return decode\n",
    "repetition_decode('100001110000110') "
   ]
  },
  {
   "cell_type": "markdown",
   "id": "cf532b2d-1f7f-49d5-99d6-96717c41363d",
   "metadata": {},
   "source": [
    "Here is a script that generates random messages, run them though the encoder, then corrupts the result, and finally decodes them. Use this to check your answers. Remember that if there are multiple error per block then, the estimated message should not be equal the original message."
   ]
  },
  {
   "cell_type": "code",
   "execution_count": 4,
   "id": "80bae3d1-dcbe-4c20-aeb5-09b9aa6a901f",
   "metadata": {},
   "outputs": [
    {
     "name": "stdout",
     "output_type": "stream",
     "text": [
      "message =  10011\n",
      "codeword =  111000000111111\n",
      "corrupted_codeword =  111000000111111\n",
      "estimated_message =  10011\n",
      "Is message = estimated_message? True\n"
     ]
    }
   ],
   "source": [
    "from random import randint, random\n",
    "\n",
    "# these are the two parameters we need to set\n",
    "message_length = 5\n",
    "p = 0.1\n",
    "\n",
    "# create a random message\n",
    "message = ''.join([str(randint(0,1)) for i in range(message_length)])\n",
    "print('message = ', message)\n",
    "\n",
    "# encode the message\n",
    "codeword = repetition_encode(message)\n",
    "print('codeword = ', codeword)\n",
    "\n",
    "# send it through the noisy channel\n",
    "corrupted_codeword = ''\n",
    "for c in codeword:\n",
    "    if random() < p:\n",
    "        if c == '0':\n",
    "            corrupted_codeword += '1'\n",
    "        else:\n",
    "            corrupted_codeword += '0'\n",
    "    else:\n",
    "        corrupted_codeword += c\n",
    "print('corrupted_codeword = ', corrupted_codeword)\n",
    "        \n",
    "# decode it\n",
    "estimated_message = repetition_decode(corrupted_codeword)\n",
    "print('estimated_message = ', estimated_message)\n",
    "print('Is message = estimated_message?', message == estimated_message)"
   ]
  },
  {
   "cell_type": "markdown",
   "id": "37c60f6a-99e6-47cc-8ca5-d52a5bf52c4e",
   "metadata": {},
   "source": [
    "### How good is the repetition based process?\n",
    "Whenever we come across an error-correction process, we should evaluate how effective it is at correcting errors. The following tasks help you figure this out on your own.\n",
    "\n",
    "#### Task 3 (On paper)\n",
    "Using the repetition code, what is the probability that Bob correctly infers the correct bit-string? Each block of three is treated separately, so we only need to estimate the probability of correct inference from each block. Let $p$ be the probability of error on a single bit. Let the probability of an error on each bit be independent.\n",
    "\n",
    "**Solve:** The probability that Bob correctly infers the correct bit-string using the repetition code because repetition code can correct zero and one errors.\n",
    "\n",
    "What is the probability of \n",
    "\n",
    "* zero errors,\n",
    "* one error,\n",
    "* two errors,\n",
    "* three errors.\n",
    "\n",
    "Don't forget the multiplicities.\n",
    "\n",
    "**Solve:** \n",
    " * The probability of zero error is $(1-p)(1-p)(1-p) = (1-p)^3$.\n",
    " * The probability of one error is $3p (1-p)(1-p) = 3p(1-p)^2$.\n",
    " * The probability of two errors is $3p(1-p)p = 3(1-p)p^2$.\n",
    " * The probability of three errors is $ p^3$."
   ]
  },
  {
   "cell_type": "markdown",
   "id": "eb5b3bd5-5ba8-47d5-9c16-cd5fd6fee4d0",
   "metadata": {},
   "source": [
    "#### Task 4\n",
    "Consider the case of when Alice and Bob do not use any error correction process. Then if Alice sends a single bit, the probability of Bob infering the wrong bit against the physical probability of error $p$ is as follows. Obviously, it's a straight line."
   ]
  },
  {
   "cell_type": "code",
   "execution_count": 5,
   "id": "c90e82b3-1ae0-4511-801e-ebf38299a326",
   "metadata": {},
   "outputs": [
    {
     "data": {
      "image/png": "[encoded data removed]",
      "text/plain": [
       "<Figure size 500x500 with 1 Axes>"
      ]
     },
     "metadata": {},
     "output_type": "display_data"
    }
   ],
   "source": [
    "import matplotlib.pyplot as plt\n",
    "import numpy as np\n",
    "\n",
    "# probability of error on transmitted bit\n",
    "p = np.linspace(0, 1, 100)\n",
    "# probability of incorrect inference by Bob\n",
    "pr_of_incorrect_inference = p\n",
    "\n",
    "_, ax = plt.subplots(figsize=(5, 5), layout='constrained');\n",
    "ax.plot(p, pr_of_incorrect_inference);\n",
    "ax.set_xlabel('probability of error on transmitted bit');\n",
    "ax.set_ylabel('probability of incorrect inference by Bob');"
   ]
  },
  {
   "cell_type": "markdown",
   "id": "cb6f2784-d3d4-4f88-90c8-e2b99e53c98c",
   "metadata": {},
   "source": [
    "When Alice and Bob do use error correction, plot the probability of incorrect inference by Bob vs the probability of error on a single bit $p$. Keep the line drawn above, so you can compare the two cases. For what values of $p$ is it beneficial to use error correction?"
   ]
  },
  {
   "cell_type": "code",
   "execution_count": 7,
   "id": "28b2a047-10a4-4ab0-b66e-1f73d154bf27",
   "metadata": {},
   "outputs": [
    {
     "data": {
      "image/png": "[encoded data removed]",
      "text/plain": [
       "<Figure size 500x500 with 1 Axes>"
      ]
     },
     "metadata": {},
     "output_type": "display_data"
    }
   ],
   "source": [
    "import matplotlib.pyplot as plt\n",
    "import numpy as np\n",
    "\n",
    "# probability of error on transmitted bit\n",
    "p = np.linspace(0, 1, 100)\n",
    "# probability of incorrect inference by Bob\n",
    "pr_of_incorrect_inference_repetition = p*p*p + 3*p*p*(1-p)\n",
    "\n",
    "pr_of_incorrect_inference = p \n",
    "\n",
    "_, ax = plt.subplots(figsize=(5, 5), layout='constrained');\n",
    "ax.plot(p, pr_of_incorrect_inference, label='no error correction'); \n",
    "\n",
    "# you can uncomment the line below to add another plot to the same figure\n",
    "ax.plot(p, pr_of_incorrect_inference_repetition, label='with repetition code'); \n",
    "\n",
    "ax.set_xlabel('probability of error on transmitted bit');\n",
    "ax.set_ylabel('probability of incorrect inference by Bob');\n",
    "plt.legend();"
   ]
  },
  {
   "cell_type": "markdown",
   "id": "b73f84b7-3802-4451-925c-024dd07b2c22",
   "metadata": {},
   "source": [
    "What you will discover is that when the physical error rate $p$ is low, then the repetition code helps. However if $p$ is large then using the repetition code is actually worse than the naive process. Can you argue why?\n",
    "\n",
    "**Solve:** From the plot error correction code works well if $p<0.5$. Above this threshold, using the repetition code is actually worse than the naive process. \n",
    "\n",
    "Using repetition code, the probability of two or more bit flips is $3p^2(1-p) + p^3 = 3p^2 -2p^3$. Without repetition code, the probability is $p$. \n",
    "So, the condition that repetition code is good enough is,\n",
    "\n",
    "\n",
    "\\begin{equation}\n",
    "  \\begin{aligned}\n",
    "    3p^2 -2p^3 & < p\\\\\n",
    "     \\Longrightarrow p(3p-2p^2)& < p\\\\\n",
    "      \\Longrightarrow 3p-2p^2 & < 1 \\\\\n",
    "      \\Longrightarrow 3p-2p^2-1 & < 0 \\\\\n",
    "      \\Longrightarrow 2p^2-3p + 1 & > 0 \\\\\n",
    "      \\Longrightarrow 2p^2-2p -p + 1 & > 0 \\\\\n",
    "      \\Longrightarrow 2p(p-1) -1( p-1) & > 0 \\\\\n",
    "      \\Longrightarrow 2p(p-1) -1( p-1) & > 0 \\\\\n",
    "      \\Longrightarrow (2p-1) (p-1) & > 0 \\\\\n",
    "      (2p-1) & > 0 \\\\ \n",
    "      \\text{or}(p-1) & > 0     \n",
    "  \\end{aligned}\n",
    "\\end{equation}\n",
    "\n",
    "So, p is either $> \\frac{1}{2}$ or $p>1$. But p represents probability so can't be larger than 1. So, it can be said that if $p> \\frac{1}{2}$ then repetition code works well than naive process. "
   ]
  },
  {
   "cell_type": "markdown",
   "id": "b0b6a5ed-bdfd-4a0f-a93f-bdb83d329a98",
   "metadata": {},
   "source": [
    "#### Task 5 (On paper, optional)\n",
    "This exercise will become crucial when we later discuss fault-tolerant quantum computing.\n",
    "\n",
    "Suppose that Alice has some encoded message. She wants to do some logical operations on the encoded message without decoding it first. How can she go about it? Concretely, how can she apply\n",
    "\n",
    "* A NOT operation, that takes $\\bar{0}$ to $\\bar{1}$, and $\\bar{1}$ to $\\bar{0}$.\n",
    "* An OR operation, that has the following truth table\n",
    "\n",
    "|    Input      |     Output     |\n",
    "|:-------------:|:--------------:|\n",
    "|$\\overline{00}$| $\\overline{0}$|\n",
    "|$\\overline{01}$| $\\overline{1}$|\n",
    "|$\\overline{10}$| $\\overline{1}$|\n",
    "|$\\overline{11}$| $\\overline{1}$|\n",
    "\n"
   ]
  },
  {
   "cell_type": "markdown",
   "id": "b75e433e-efb8-46e3-85ef-f599b29f3651",
   "metadata": {},
   "source": [
    "* A NOT operation, that takes $\\bar{0}$ to $\\bar{1}$, and $\\bar{1}$ to $\\bar{0}$.\n",
    "\n",
    "For **Not** gate,\n",
    "\n",
    "Since there are three bits, so first NOT gate will be applied to the first bit, whcih changes 000 to 100, then NOT gate will be applied to this output. That is 100 will be changed to 110 and so on.\n",
    "* An OR operation,\n",
    "\n",
    "For **OR** operation,\n",
    "\n",
    " We have two code blocks. ($\\overline{00}$) -> 000000. First assume that each 3 bits represents one block. Then ORing each bit of one block with another. Like 000 + 000 ... this way. So, at first OR gate will be applied to the first bits of each block and so on. This way we will get 000 or $\\bar{0}$ and so on. "
   ]
  },
  {
   "cell_type": "markdown",
   "id": "26b9e770-c44c-4ea0-9c81-6521a60d9595",
   "metadata": {},
   "source": []
  }
 ],
 "metadata": {
  "kernelspec": {
   "display_name": "Python 3 (ipykernel)",
   "language": "python",
   "name": "python3"
  },
  "language_info": {
   "codemirror_mode": {
    "name": "ipython",
    "version": 3
   },
   "file_extension": ".py",
   "mimetype": "text/x-python",
   "name": "python",
   "nbconvert_exporter": "python",
   "pygments_lexer": "ipython3",
   "version": "3.10.13"
  },
  "widgets": {
   "application/vnd.jupyter.widget-state+json": {
    "state": {},
    "version_major": 2,
    "version_minor": 0
   }
  }
 },
 "nbformat": 4,
 "nbformat_minor": 5
}
