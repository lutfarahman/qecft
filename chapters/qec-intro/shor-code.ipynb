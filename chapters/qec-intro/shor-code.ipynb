{
 "cells": [
  {
   "cell_type": "markdown",
   "id": "a23fe73c",
   "metadata": {
    "tags": []
   },
   "source": [
    "# The Shor Code"
   ]
  },
  {
   "cell_type": "markdown",
   "id": "b00286a1",
   "metadata": {
    "tags": [
     "remove-cell"
    ]
   },
   "source": [
    "<div style=\"width:100%;text-align:right;font-size:0.75em;opacity:0.2\">Latex macros</div>\n",
    "$ \\newcommand{\\ket}[1]{|#1\\rangle} $\n",
    "$ \\newcommand{\\bra}[1]{\\langle #1|} $\n",
    "$\\newcommand{\\iu}{{i\\mkern1mu}}$\n",
    "$ \\newcommand{\\e}{\\mathrm{e}}$\n",
    "$\\newcommand{\\bigo}{\\mathcal{O}}$\n",
    "$\\newcommand{\\set}[1]{\\{#1\\}}$\n",
    "$\\newcommand{\\oper}[1]{\\mathcal{#1}}$\n",
    "$\\newcommand{\\st}[1]{\\mathcal{#1}}$\n",
    "$\\newcommand{\\vecs}[1]{\\mathcal{#1}}$\n",
    "$\\newcommand{\\group}[1]{\\mathcal{#1}}$\n",
    "$\\newcommand{\\union}{\\hspace{0.25em}\\cup\\hspace{0.25em}}$"
   ]
  },
  {
   "cell_type": "markdown",
   "id": "8322accd-289e-45e9-a4c4-a80bfdc8da84",
   "metadata": {},
   "source": [
    "It is now time to construct a code that correct more than one type of error. This will also give us the opportunity to show off a code construction technique called code concatenation.\n",
    "\n",
    "In code concatenation, we first encode the logical qubit using a particular code into $n$ data qubits. Then, we encode each of then $n$ data qubits individually using the same or another code. To illustrate this, recall that, in the phase-flip code the logical basis states are encoded as\n",
    "\\begin{align}\n",
    "  \\ket{0} \\to \\ket{\\bar{0}} = \\ket{+++}, \\\\\n",
    "  \\ket{1} \\to \\ket{\\bar{1}} = \\ket{---}. \n",
    "\\end{align}\n",
    "Now, we are going to take each of the three data qubits and encode them using the bit-flip repetition code. Recall that in the bit-flip repetition code, the plus and minus states encode as\n",
    "\\begin{align}\n",
    "  \\ket{+} &= \\frac{\\ket{0} + \\ket{1}}{\\sqrt{2}} \\to \\ket{\\bar{+}} = \\frac{\\ket{000} + \\ket{111}}{\\sqrt{2}}, \\\\\n",
    "  \\ket{-} &= \\frac{\\ket{0} - \\ket{1}}{\\sqrt{2}} \\to \\ket{\\bar{-}} = \\frac{\\ket{000} - \\ket{111}}{\\sqrt{2}}.\n",
    "\\end{align}\n",
    "When we apply this encoding to each of the three qubits in the phase-flip encoding, we obtain\n",
    "\\begin{align}\n",
    "  \\ket{+++} \\to \\ket{\\bar{\\bar{0}}} = \\frac{(\\ket{000} + \\ket{111})(\\ket{000} + \\ket{111})(\\ket{000} + \\ket{111})}{2\\sqrt{2}}, \\\\\n",
    "  \\ket{---} \\to \\ket{\\bar{\\bar{1}}} = \\frac{(\\ket{000} - \\ket{111})(\\ket{000} - \\ket{111})(\\ket{000} - \\ket{111})}{2\\sqrt{2}}.\n",
    "\\end{align}\n",
    "Visually, we can draw a tree diagram to show how one qubit is first encoded into three via the phase-flip code and then each of the three qubits is encoded into three more via the bit-flip code.\n",
    "\n",
    "![Shor code concatenation](../../images/shorcodeconcatenation.png)\n",
    "\n",
    "\n",
    "Here we refer to the phase-flip code as the *outer* code (level 1) and the bit-flip code as the *inner* code (level 2). "
   ]
  },
  {
   "cell_type": "markdown",
   "id": "6386dc93-f7cc-4b8e-bf9e-905d9c70d9b1",
   "metadata": {},
   "source": [
    "### Encoding\n",
    "This combined action that maps one logical qubit to the state of nine qubits as\n",
    "\\begin{align}\n",
    "  \\ket{0} \\to \\ket{\\bar{\\bar{0}}} = \\frac{(\\ket{000} + \\ket{111})(\\ket{000} + \\ket{111})(\\ket{000} + \\ket{111})}{2\\sqrt{2}}, \\\\\n",
    "  \\ket{1} \\to \\ket{\\bar{\\bar{1}}} = \\frac{(\\ket{000} - \\ket{111})(\\ket{000} - \\ket{111})(\\ket{000} - \\ket{111})}{2\\sqrt{2}},\n",
    "\\end{align}\n",
    "defines the encoding for the Shor code."
   ]
  },
  {
   "cell_type": "markdown",
   "id": "374d09c8-b8b5-4c42-8a6b-d90bb54de3f2",
   "metadata": {},
   "source": [
    "#### Task 1\n",
    "Create the encoding circuit for the Shor code. You will use nine qubits.\n",
    "\n",
    "1. Apply the phase-flip repetition code's encoding circuit to qubits 0, 3, 6.\n",
    "2. Apply the bit-flip repetition code's encoding circuit to \n",
    "    * qubits 0,1,2\n",
    "    * qubits 3,4,5\n",
    "    * qubits 6,7,8\n",
    "\n",
    "Then use the `circ.simulate()` method to check if you get the correct output."
   ]
  },
  {
   "cell_type": "code",
   "execution_count": 1,
   "id": "a0300cb0-146f-474f-91c7-29f630d07065",
   "metadata": {},
   "outputs": [
    {
     "data": {
      "image/svg+xml": [
       "<svg xmlns=\"http://www.w3.org/2000/svg\" width=\"334\" height=\"414\"><style>\n",
       "            svg {background-color:white;}\n",
       "            .labeltext { font-family: Bitstream Vera Sans Mono;\n",
       "                        font-size: 12px; font-weight: 400; fill: black;}\n",
       "            .qubitline { stroke: black; stroke-width: 2; }\n",
       "            .gatetext { font-family: Latin Modern Math, Cambria Math;\n",
       "                       font-size: 20px; font-weight: 400; fill: black;}\n",
       "            .gaterect { fill: white; stroke: black; stroke-width: 2 }\n",
       "            .control1 { fill: black; stroke: black; stroke-width: 1 }\n",
       "            .controlline { stroke: black; stroke-width: 2}\n",
       "            .tickline { stroke: black; stroke-width: 0.75; stroke-dasharray: 6,3}\n",
       "            .tp_highlight1 { fill: red; opacity: 0.2;}\n",
       "            .tp_highlight2 { fill: blue; opacity: 0.2;}\n",
       "                </style><line class=\"qubitline\" x1=\"104\" y1=\"20\" x2=\"334\" y2=\"20\"/><line class=\"qubitline\" x1=\"104\" y1=\"66\" x2=\"334\" y2=\"66\"/><line class=\"qubitline\" x1=\"104\" y1=\"112\" x2=\"334\" y2=\"112\"/><line class=\"qubitline\" x1=\"104\" y1=\"158\" x2=\"334\" y2=\"158\"/><line class=\"qubitline\" x1=\"104\" y1=\"204\" x2=\"334\" y2=\"204\"/><line class=\"qubitline\" x1=\"104\" y1=\"250\" x2=\"334\" y2=\"250\"/><line class=\"qubitline\" x1=\"104\" y1=\"296\" x2=\"334\" y2=\"296\"/><line class=\"qubitline\" x1=\"104\" y1=\"342\" x2=\"334\" y2=\"342\"/><line class=\"qubitline\" x1=\"104\" y1=\"388\" x2=\"334\" y2=\"388\"/><text dominant-baseline=\"central\" class=\"labeltext\" x=\"0\" y=\"20\">(0, 0, 0) : 0</text><text dominant-baseline=\"central\" class=\"labeltext\" x=\"0\" y=\"66\">(0, 0, 1) : 1</text><text dominant-baseline=\"central\" class=\"labeltext\" x=\"0\" y=\"112\">(0, 0, 2) : 2</text><text dominant-baseline=\"central\" class=\"labeltext\" x=\"0\" y=\"158\">(0, 0, 3) : 3</text><text dominant-baseline=\"central\" class=\"labeltext\" x=\"0\" y=\"204\">(0, 0, 4) : 4</text><text dominant-baseline=\"central\" class=\"labeltext\" x=\"0\" y=\"250\">(0, 0, 5) : 5</text><text dominant-baseline=\"central\" class=\"labeltext\" x=\"0\" y=\"296\">(0, 0, 6) : 6</text><text dominant-baseline=\"central\" class=\"labeltext\" x=\"0\" y=\"342\">(0, 0, 7) : 7</text><text dominant-baseline=\"central\" class=\"labeltext\" x=\"0\" y=\"388\">(0, 0, 8) : 8</text><circle class=\"control1\" cx=\"133.0\" cy=\"20\" r=\"3\"/><line class=\"controlline\" x1=\"133.0\" y1=\"23\" x2=\"133.0\" y2=\"145.0\"/><rect class=\"gaterect\" x=\"119\" y=\"145.0\" width=\"28\" height=\"26\"/><text dominant-baseline=\"central\" text-anchor=\"middle\" class=\"gatetext\" x=\"133.0\" y=\"158.0\">X</text><circle class=\"control1\" cx=\"176.0\" cy=\"20\" r=\"3\"/><line class=\"controlline\" x1=\"176.0\" y1=\"23\" x2=\"176.0\" y2=\"283.0\"/><rect class=\"gaterect\" x=\"162\" y=\"283.0\" width=\"28\" height=\"26\"/><text dominant-baseline=\"central\" text-anchor=\"middle\" class=\"gatetext\" x=\"176.0\" y=\"296.0\">X</text><rect class=\"gaterect\" x=\"205\" y=\"7.0\" width=\"28\" height=\"26\"/><text dominant-baseline=\"central\" text-anchor=\"middle\" class=\"gatetext\" x=\"219.0\" y=\"20.0\">H</text><rect class=\"gaterect\" x=\"205\" y=\"145.0\" width=\"28\" height=\"26\"/><text dominant-baseline=\"central\" text-anchor=\"middle\" class=\"gatetext\" x=\"219.0\" y=\"158.0\">H</text><rect class=\"gaterect\" x=\"205\" y=\"283.0\" width=\"28\" height=\"26\"/><text dominant-baseline=\"central\" text-anchor=\"middle\" class=\"gatetext\" x=\"219.0\" y=\"296.0\">H</text><circle class=\"control1\" cx=\"262.0\" cy=\"20\" r=\"3\"/><line class=\"controlline\" x1=\"262.0\" y1=\"23\" x2=\"262.0\" y2=\"53.0\"/><rect class=\"gaterect\" x=\"248\" y=\"53.0\" width=\"28\" height=\"26\"/><text dominant-baseline=\"central\" text-anchor=\"middle\" class=\"gatetext\" x=\"262.0\" y=\"66.0\">X</text><circle class=\"control1\" cx=\"262.0\" cy=\"158\" r=\"3\"/><line class=\"controlline\" x1=\"262.0\" y1=\"161\" x2=\"262.0\" y2=\"191.0\"/><rect class=\"gaterect\" x=\"248\" y=\"191.0\" width=\"28\" height=\"26\"/><text dominant-baseline=\"central\" text-anchor=\"middle\" class=\"gatetext\" x=\"262.0\" y=\"204.0\">X</text><circle class=\"control1\" cx=\"262.0\" cy=\"296\" r=\"3\"/><line class=\"controlline\" x1=\"262.0\" y1=\"299\" x2=\"262.0\" y2=\"329.0\"/><rect class=\"gaterect\" x=\"248\" y=\"329.0\" width=\"28\" height=\"26\"/><text dominant-baseline=\"central\" text-anchor=\"middle\" class=\"gatetext\" x=\"262.0\" y=\"342.0\">X</text><circle class=\"control1\" cx=\"305.0\" cy=\"20\" r=\"3\"/><line class=\"controlline\" x1=\"305.0\" y1=\"23\" x2=\"305.0\" y2=\"99.0\"/><rect class=\"gaterect\" x=\"291\" y=\"99.0\" width=\"28\" height=\"26\"/><text dominant-baseline=\"central\" text-anchor=\"middle\" class=\"gatetext\" x=\"305.0\" y=\"112.0\">X</text><circle class=\"control1\" cx=\"305.0\" cy=\"158\" r=\"3\"/><line class=\"controlline\" x1=\"305.0\" y1=\"161\" x2=\"305.0\" y2=\"237.0\"/><rect class=\"gaterect\" x=\"291\" y=\"237.0\" width=\"28\" height=\"26\"/><text dominant-baseline=\"central\" text-anchor=\"middle\" class=\"gatetext\" x=\"305.0\" y=\"250.0\">X</text><circle class=\"control1\" cx=\"305.0\" cy=\"296\" r=\"3\"/><line class=\"controlline\" x1=\"305.0\" y1=\"299\" x2=\"305.0\" y2=\"375.0\"/><rect class=\"gaterect\" x=\"291\" y=\"375.0\" width=\"28\" height=\"26\"/><text dominant-baseline=\"central\" text-anchor=\"middle\" class=\"gatetext\" x=\"305.0\" y=\"388.0\">X</text></svg>"
      ],
      "text/plain": [
       "<IPython.core.display.SVG object>"
      ]
     },
     "metadata": {},
     "output_type": "display_data"
    }
   ],
   "source": [
    "import stac\n",
    "enc_circ = stac.Circuit.simple(9)\n",
    "enc_circ.append('CX', 0, 3)\n",
    "enc_circ.append('CX', 0, 6)\n",
    "for i in range(3):\n",
    "    enc_circ.append('H', 3*i)\n",
    "enc_circ.append('CX', 0, 1)\n",
    "enc_circ.append('CX', 3, 4)\n",
    "enc_circ.append('CX', 6, 7)\n",
    "enc_circ.append('CX', 0, 2)\n",
    "enc_circ.append('CX', 3, 5)\n",
    "enc_circ.append('CX', 6, 8)\n",
    "enc_circ.draw()\n"
   ]
  },
  {
   "cell_type": "code",
   "execution_count": 2,
   "id": "62412b30-b8c7-44d1-bb55-cf5dcb832ad3",
   "metadata": {},
   "outputs": [
    {
     "name": "stdout",
     "output_type": "stream",
     "text": [
      "    basis    amplitude\n",
      "---------  -----------\n",
      "000000000        0.354\n",
      "111000000        0.354\n",
      "000111000        0.354\n",
      "111111000        0.354\n",
      "000000111        0.354\n",
      "111000111        0.354\n",
      "000111111        0.354\n",
      "111111111        0.354\n"
     ]
    }
   ],
   "source": [
    "enc_circ.simulate()"
   ]
  },
  {
   "cell_type": "markdown",
   "id": "5f53a37f-7d46-486e-9d33-3f488d888127",
   "metadata": {},
   "source": [
    "*Question:* Construct the basis states of a nine-qubit code with the bit-flip code as the outer code and the phase-flip code as the inner code."
   ]
  },
  {
   "cell_type": "markdown",
   "id": "c96eddf6-f8ec-4bfa-8f4b-b5935ad444a8",
   "metadata": {},
   "source": [
    "**Solve:**\n",
    "\n",
    "Recall that in the bit-flip repetition code, the plus and minus states encode as\n",
    "\\begin{align}\n",
    "  \\ket{+} &= \\frac{\\ket{0} + \\ket{1}}{\\sqrt{2}} \\to \\ket{\\bar{+}} = \\frac{\\ket{000} + \\ket{111}}{\\sqrt{2}}, \\\\\n",
    "  \\ket{-} &= \\frac{\\ket{0} - \\ket{1}}{\\sqrt{2}} \\to \\ket{\\bar{-}} = \\frac{\\ket{000} - \\ket{111}}{\\sqrt{2}}.\n",
    "\\end{align}\n",
    "When we apply this encoding to each of the three qubits in the phase-flip encoding, we obtain\n",
    "\\begin{align}\n",
    "  \\ket{+++} \\to \\ket{\\bar{\\bar{0}}} = \\frac{(\\ket{000} + \\ket{111})(\\ket{000} + \\ket{111})(\\ket{000} + \\ket{111})}{2\\sqrt{2}}, \\\\\n",
    "  \\ket{---} \\to \\ket{\\bar{\\bar{1}}} = \\frac{(\\ket{000} - \\ket{111})(\\ket{000} - \\ket{111})(\\ket{000} - \\ket{111})}{2\\sqrt{2}}.\n",
    "\\end{align}"
   ]
  },
  {
   "cell_type": "markdown",
   "id": "392d27fb-d085-43ce-b72e-a71e39ac04f9",
   "metadata": {},
   "source": [
    "### Errors and decoding\n",
    "We will now show that this code can correct every possible single-qubit error. Let's first show that it can correct bit-flip and phase-flip errors on any of the nine data qubits."
   ]
  },
  {
   "cell_type": "markdown",
   "id": "b8087a90-3af1-4a24-8f2d-affbe4453d17",
   "metadata": {},
   "source": [
    "#### $X$-errors\n",
    "Suppose a single-qubit $X$ error occurs, on say the fourth qubit.\n",
    "\\begin{align}\n",
    "  X_4\\ket{\\bar{\\bar{0}}} = \\frac{(\\ket{000} + \\ket{111})(\\ket{010} + \\ket{101})(\\ket{000} + \\ket{111})}{2\\sqrt{2}}, \\\\\n",
    "  X_4\\ket{\\bar{\\bar{1}}} = \\frac{(\\ket{000} - \\ket{111})(\\ket{010} - \\ket{101})(\\ket{000} - \\ket{111})}{2\\sqrt{2}},\n",
    "\\end{align}\n",
    "How can one detect that this occur occured? We will do the following syndrome measurements, in the style of the bit-flip code.\n",
    "\n",
    "* Compare the values of qubits 0,1,2\n",
    "* Compare the values of qubits 3,4,5\n",
    "* Compare the values of qubits 6,7,8\n",
    "\n",
    "In this example, comparing the value of the 3rd qubit with the 4th, and the 4th with the 5th will show that the 3rd qubit has a different value. The error can be fixed as before."
   ]
  },
  {
   "cell_type": "markdown",
   "id": "cad1bac7-ffc9-49da-9276-1a90e2720765",
   "metadata": {},
   "source": [
    "#### Task 2\n",
    "Create the syndrome measurement circuit for detecting $X$ errors in the Shor code."
   ]
  },
  {
   "cell_type": "code",
   "execution_count": 3,
   "id": "42a4395f-edac-4381-8ecc-29560b826590",
   "metadata": {},
   "outputs": [
    {
     "data": {
      "image/svg+xml": [
       "<svg xmlns=\"http://www.w3.org/2000/svg\" width=\"694\" height=\"690\"><style>\n",
       "            svg {background-color:white;}\n",
       "            .labeltext { font-family: Bitstream Vera Sans Mono;\n",
       "                        font-size: 12px; font-weight: 400; fill: black;}\n",
       "            .qubitline { stroke: black; stroke-width: 2; }\n",
       "            .gatetext { font-family: Latin Modern Math, Cambria Math;\n",
       "                       font-size: 20px; font-weight: 400; fill: black;}\n",
       "            .gaterect { fill: white; stroke: black; stroke-width: 2 }\n",
       "            .control1 { fill: black; stroke: black; stroke-width: 1 }\n",
       "            .controlline { stroke: black; stroke-width: 2}\n",
       "            .tickline { stroke: black; stroke-width: 0.75; stroke-dasharray: 6,3}\n",
       "            .tp_highlight1 { fill: red; opacity: 0.2;}\n",
       "            .tp_highlight2 { fill: blue; opacity: 0.2;}\n",
       "                </style><line class=\"qubitline\" x1=\"120\" y1=\"20\" x2=\"694\" y2=\"20\"/><line class=\"qubitline\" x1=\"120\" y1=\"66\" x2=\"694\" y2=\"66\"/><line class=\"qubitline\" x1=\"120\" y1=\"112\" x2=\"694\" y2=\"112\"/><line class=\"qubitline\" x1=\"120\" y1=\"158\" x2=\"694\" y2=\"158\"/><line class=\"qubitline\" x1=\"120\" y1=\"204\" x2=\"694\" y2=\"204\"/><line class=\"qubitline\" x1=\"120\" y1=\"250\" x2=\"694\" y2=\"250\"/><line class=\"qubitline\" x1=\"120\" y1=\"296\" x2=\"694\" y2=\"296\"/><line class=\"qubitline\" x1=\"120\" y1=\"342\" x2=\"694\" y2=\"342\"/><line class=\"qubitline\" x1=\"120\" y1=\"388\" x2=\"694\" y2=\"388\"/><line class=\"qubitline\" x1=\"120\" y1=\"434\" x2=\"694\" y2=\"434\"/><line class=\"qubitline\" x1=\"120\" y1=\"480\" x2=\"694\" y2=\"480\"/><line class=\"qubitline\" x1=\"120\" y1=\"526\" x2=\"694\" y2=\"526\"/><line class=\"qubitline\" x1=\"120\" y1=\"572\" x2=\"694\" y2=\"572\"/><line class=\"qubitline\" x1=\"120\" y1=\"618\" x2=\"694\" y2=\"618\"/><line class=\"qubitline\" x1=\"120\" y1=\"664\" x2=\"694\" y2=\"664\"/><text dominant-baseline=\"central\" class=\"labeltext\" x=\"0\" y=\"20\">(0, 0, 0)  :  0</text><text dominant-baseline=\"central\" class=\"labeltext\" x=\"0\" y=\"66\">(0, 0, 1)  :  1</text><text dominant-baseline=\"central\" class=\"labeltext\" x=\"0\" y=\"112\">(0, 0, 2)  :  2</text><text dominant-baseline=\"central\" class=\"labeltext\" x=\"0\" y=\"158\">(0, 0, 3)  :  3</text><text dominant-baseline=\"central\" class=\"labeltext\" x=\"0\" y=\"204\">(0, 0, 4)  :  4</text><text dominant-baseline=\"central\" class=\"labeltext\" x=\"0\" y=\"250\">(0, 0, 5)  :  5</text><text dominant-baseline=\"central\" class=\"labeltext\" x=\"0\" y=\"296\">(0, 0, 6)  :  6</text><text dominant-baseline=\"central\" class=\"labeltext\" x=\"0\" y=\"342\">(0, 0, 7)  :  7</text><text dominant-baseline=\"central\" class=\"labeltext\" x=\"0\" y=\"388\">(0, 0, 8)  :  8</text><text dominant-baseline=\"central\" class=\"labeltext\" x=\"0\" y=\"434\">(0, 0, 9)  :  9</text><text dominant-baseline=\"central\" class=\"labeltext\" x=\"0\" y=\"480\">(0, 0, 10) : 10</text><text dominant-baseline=\"central\" class=\"labeltext\" x=\"0\" y=\"526\">(0, 0, 11) : 11</text><text dominant-baseline=\"central\" class=\"labeltext\" x=\"0\" y=\"572\">(0, 0, 12) : 12</text><text dominant-baseline=\"central\" class=\"labeltext\" x=\"0\" y=\"618\">(0, 0, 13) : 13</text><text dominant-baseline=\"central\" class=\"labeltext\" x=\"0\" y=\"664\">(0, 0, 14) : 14</text><circle class=\"control1\" cx=\"149.0\" cy=\"20\" r=\"3\"/><line class=\"controlline\" x1=\"149.0\" y1=\"23\" x2=\"149.0\" y2=\"421.0\"/><rect class=\"gaterect\" x=\"135\" y=\"421.0\" width=\"28\" height=\"26\"/><text dominant-baseline=\"central\" text-anchor=\"middle\" class=\"gatetext\" x=\"149.0\" y=\"434.0\">X</text><circle class=\"control1\" cx=\"192.0\" cy=\"66\" r=\"3\"/><line class=\"controlline\" x1=\"192.0\" y1=\"69\" x2=\"192.0\" y2=\"421.0\"/><rect class=\"gaterect\" x=\"178\" y=\"421.0\" width=\"28\" height=\"26\"/><text dominant-baseline=\"central\" text-anchor=\"middle\" class=\"gatetext\" x=\"192.0\" y=\"434.0\">X</text><line class=\"tickline\" x1=\"213.5\" y1=\"0\" x2=\"213.5\" y2=\"684\"/><circle class=\"control1\" cx=\"235.0\" cy=\"66\" r=\"3\"/><line class=\"controlline\" x1=\"235.0\" y1=\"69\" x2=\"235.0\" y2=\"467.0\"/><rect class=\"gaterect\" x=\"221\" y=\"467.0\" width=\"28\" height=\"26\"/><text dominant-baseline=\"central\" text-anchor=\"middle\" class=\"gatetext\" x=\"235.0\" y=\"480.0\">X</text><circle class=\"control1\" cx=\"278.0\" cy=\"112\" r=\"3\"/><line class=\"controlline\" x1=\"278.0\" y1=\"115\" x2=\"278.0\" y2=\"467.0\"/><rect class=\"gaterect\" x=\"264\" y=\"467.0\" width=\"28\" height=\"26\"/><text dominant-baseline=\"central\" text-anchor=\"middle\" class=\"gatetext\" x=\"278.0\" y=\"480.0\">X</text><line class=\"tickline\" x1=\"299.5\" y1=\"0\" x2=\"299.5\" y2=\"684\"/><circle class=\"control1\" cx=\"321.0\" cy=\"158\" r=\"3\"/><line class=\"controlline\" x1=\"321.0\" y1=\"161\" x2=\"321.0\" y2=\"513.0\"/><rect class=\"gaterect\" x=\"307\" y=\"513.0\" width=\"28\" height=\"26\"/><text dominant-baseline=\"central\" text-anchor=\"middle\" class=\"gatetext\" x=\"321.0\" y=\"526.0\">X</text><circle class=\"control1\" cx=\"364.0\" cy=\"204\" r=\"3\"/><line class=\"controlline\" x1=\"364.0\" y1=\"207\" x2=\"364.0\" y2=\"513.0\"/><rect class=\"gaterect\" x=\"350\" y=\"513.0\" width=\"28\" height=\"26\"/><text dominant-baseline=\"central\" text-anchor=\"middle\" class=\"gatetext\" x=\"364.0\" y=\"526.0\">X</text><line class=\"tickline\" x1=\"385.5\" y1=\"0\" x2=\"385.5\" y2=\"684\"/><circle class=\"control1\" cx=\"407.0\" cy=\"204\" r=\"3\"/><line class=\"controlline\" x1=\"407.0\" y1=\"207\" x2=\"407.0\" y2=\"559.0\"/><rect class=\"gaterect\" x=\"393\" y=\"559.0\" width=\"28\" height=\"26\"/><text dominant-baseline=\"central\" text-anchor=\"middle\" class=\"gatetext\" x=\"407.0\" y=\"572.0\">X</text><circle class=\"control1\" cx=\"450.0\" cy=\"250\" r=\"3\"/><line class=\"controlline\" x1=\"450.0\" y1=\"253\" x2=\"450.0\" y2=\"559.0\"/><rect class=\"gaterect\" x=\"436\" y=\"559.0\" width=\"28\" height=\"26\"/><text dominant-baseline=\"central\" text-anchor=\"middle\" class=\"gatetext\" x=\"450.0\" y=\"572.0\">X</text><line class=\"tickline\" x1=\"471.5\" y1=\"0\" x2=\"471.5\" y2=\"684\"/><circle class=\"control1\" cx=\"493.0\" cy=\"296\" r=\"3\"/><line class=\"controlline\" x1=\"493.0\" y1=\"299\" x2=\"493.0\" y2=\"605.0\"/><rect class=\"gaterect\" x=\"479\" y=\"605.0\" width=\"28\" height=\"26\"/><text dominant-baseline=\"central\" text-anchor=\"middle\" class=\"gatetext\" x=\"493.0\" y=\"618.0\">X</text><circle class=\"control1\" cx=\"536.0\" cy=\"342\" r=\"3\"/><line class=\"controlline\" x1=\"536.0\" y1=\"345\" x2=\"536.0\" y2=\"605.0\"/><rect class=\"gaterect\" x=\"522\" y=\"605.0\" width=\"28\" height=\"26\"/><text dominant-baseline=\"central\" text-anchor=\"middle\" class=\"gatetext\" x=\"536.0\" y=\"618.0\">X</text><line class=\"tickline\" x1=\"557.5\" y1=\"0\" x2=\"557.5\" y2=\"684\"/><circle class=\"control1\" cx=\"579.0\" cy=\"342\" r=\"3\"/><line class=\"controlline\" x1=\"579.0\" y1=\"345\" x2=\"579.0\" y2=\"651.0\"/><rect class=\"gaterect\" x=\"565\" y=\"651.0\" width=\"28\" height=\"26\"/><text dominant-baseline=\"central\" text-anchor=\"middle\" class=\"gatetext\" x=\"579.0\" y=\"664.0\">X</text><circle class=\"control1\" cx=\"622.0\" cy=\"388\" r=\"3\"/><line class=\"controlline\" x1=\"622.0\" y1=\"391\" x2=\"622.0\" y2=\"651.0\"/><rect class=\"gaterect\" x=\"608\" y=\"651.0\" width=\"28\" height=\"26\"/><text dominant-baseline=\"central\" text-anchor=\"middle\" class=\"gatetext\" x=\"622.0\" y=\"664.0\">X</text><line class=\"tickline\" x1=\"643.5\" y1=\"0\" x2=\"643.5\" y2=\"684\"/><rect class=\"gaterect\" x=\"651\" y=\"421.0\" width=\"28\" height=\"26\"/><text dominant-baseline=\"central\" text-anchor=\"middle\" class=\"gatetext\" x=\"665.0\" y=\"434.0\">M</text><rect class=\"gaterect\" x=\"651\" y=\"467.0\" width=\"28\" height=\"26\"/><text dominant-baseline=\"central\" text-anchor=\"middle\" class=\"gatetext\" x=\"665.0\" y=\"480.0\">M</text><rect class=\"gaterect\" x=\"651\" y=\"513.0\" width=\"28\" height=\"26\"/><text dominant-baseline=\"central\" text-anchor=\"middle\" class=\"gatetext\" x=\"665.0\" y=\"526.0\">M</text><rect class=\"gaterect\" x=\"651\" y=\"559.0\" width=\"28\" height=\"26\"/><text dominant-baseline=\"central\" text-anchor=\"middle\" class=\"gatetext\" x=\"665.0\" y=\"572.0\">M</text><rect class=\"gaterect\" x=\"651\" y=\"605.0\" width=\"28\" height=\"26\"/><text dominant-baseline=\"central\" text-anchor=\"middle\" class=\"gatetext\" x=\"665.0\" y=\"618.0\">M</text><rect class=\"gaterect\" x=\"651\" y=\"651.0\" width=\"28\" height=\"26\"/><text dominant-baseline=\"central\" text-anchor=\"middle\" class=\"gatetext\" x=\"665.0\" y=\"664.0\">M</text></svg>"
      ],
      "text/plain": [
       "<IPython.core.display.SVG object>"
      ]
     },
     "metadata": {},
     "output_type": "display_data"
    }
   ],
   "source": [
    "# specify how many qubits you will need\n",
    "sync_circ_x = stac.Circuit.simple(15)\n",
    "sync_circ_x.append('CX', 0, 9)\n",
    "sync_circ_x.append('CX', 1, 9)\n",
    "sync_circ_x.append('TICK')\n",
    "sync_circ_x.append('CX', 1, 10)\n",
    "sync_circ_x.append('CX', 2, 10)\n",
    "sync_circ_x.append('TICK')\n",
    "sync_circ_x.append('CX', 3, 11)\n",
    "sync_circ_x.append('CX', 4, 11)\n",
    "sync_circ_x.append('TICK')\n",
    "sync_circ_x.append('CX', 4, 12)\n",
    "sync_circ_x.append('CX', 5, 12)\n",
    "sync_circ_x.append('TICK')\n",
    "sync_circ_x.append('CX', 6, 13)\n",
    "sync_circ_x.append('CX', 7, 13)\n",
    "sync_circ_x.append('TICK')\n",
    "sync_circ_x.append('CX', 7, 14)\n",
    "sync_circ_x.append('CX', 8, 14)\n",
    "sync_circ_x.append('TICK')\n",
    "sync_circ_x.append('M', 9)\n",
    "sync_circ_x.append('M', 10)\n",
    "sync_circ_x.append('M', 11)\n",
    "sync_circ_x.append('M', 12)\n",
    "sync_circ_x.append('M', 13)\n",
    "sync_circ_x.append('M', 14)\n",
    "sync_circ_x.draw()"
   ]
  },
  {
   "cell_type": "markdown",
   "id": "5e625df3-9e60-4e3d-99a1-dda16b525823",
   "metadata": {},
   "source": [
    "#### $Z$-errors\n",
    "The case for a single-qubit $Z$ errors is slightly more difficult to see. Note, for instance, that if a $Z$ error occurs on any one of the first three qubits, the sign in the first block will change. For $i = 0,1,2$,\n",
    "\\begin{align}\n",
    "  Z_i\\ket{\\bar{\\bar{0}}} = \\frac{(\\ket{000} - \\ket{111})(\\ket{000} + \\ket{111})(\\ket{000} + \\ket{111})}{2\\sqrt{2}}, \\\\\n",
    "  Z_i\\ket{\\bar{\\bar{1}}} = \\frac{(\\ket{000} + \\ket{111})(\\ket{000} - \\ket{111})(\\ket{000} - \\ket{111})}{2\\sqrt{2}}.\n",
    "\\end{align}\n",
    "A different way of seeing it is at the outer code level, where the encoding is\n",
    "\\begin{align}\n",
    "  \\ket{\\bar{\\bar{0}}} = \\ket{\\bar{+}}\\ket{\\bar{+}}\\ket{\\bar{+}}, \\\\\n",
    "  \\ket{\\bar{\\bar{1}}} = \\ket{\\bar{-}}\\ket{\\bar{-}}\\ket{\\bar{-}}.\n",
    "\\end{align}\n",
    "Then the action of $Z_i$ for $i=0,1,2$ is\n",
    "\\begin{align}\n",
    "  Z_i\\ket{\\bar{\\bar{0}}} = \\ket{\\bar{-}}\\ket{\\bar{+}}\\ket{\\bar{+}}, \\\\\n",
    "  Z_i\\ket{\\bar{\\bar{1}}} = \\ket{\\bar{+}}\\ket{\\bar{-}}\\ket{\\bar{-}}.\n",
    "\\end{align}\n",
    "At this level, it is quite easy to see the error-detecting strategy. Apply the phase-flip code's error-detection procedure to the three encoded qubits (at the outer level). We will discuss how one can do this later."
   ]
  },
  {
   "cell_type": "markdown",
   "id": "cf4edd63-222e-49fb-a5d3-30754639c1d5",
   "metadata": {},
   "source": [
    "#### $Y$-errors\n",
    "Right now, we want to show that the Shor code can detect and correct errors beyond just $X$ and $Z$ errors. One such error is the $Y$ error, which is just $Y = \\iu ZX$, i.e. a combined bit-flip and phase-flip error. For instance, $Y_4$ will result in the corrupted basis states\n",
    "\\begin{align}\n",
    "  Y_4\\ket{\\bar{\\bar{0}}} = \\iu \\frac{(\\ket{000} + \\ket{111})(\\ket{010} - \\ket{101})(\\ket{000} + \\ket{111})}{2\\sqrt{2}}, \\\\\n",
    "  Y_4\\ket{\\bar{\\bar{1}}} = \\iu \\frac{(\\ket{000} - \\ket{111})(\\ket{010} + \\ket{101})(\\ket{000} - \\ket{111})}{2\\sqrt{2}},\n",
    "\\end{align}\n",
    "\n",
    "\n",
    "This error is detected at both the $X$ detection stage, and the $Z$ detection stage, and corrected at both as well. First, we detect $X$ errors, find that the fourth is flipped and fix it. Then we detect $Z$ errors and determine that the middle block has experienced an error and fix it.\n",
    "\n",
    "\n",
    "Hence, we have shown up till now that the Shor code can correct all errors in the set,\n",
    "\\begin{equation}\n",
    "  \\st{E} = I \\union \\set{X_i}_i \\union \\set{Y_i}_i \\union \\set{Z_i}_i, \\quad i = 0,\\dots,8.\n",
    "\\end{equation}"
   ]
  },
  {
   "cell_type": "markdown",
   "id": "8b78b2d0-c40a-4227-b610-797bf0ec2d6c",
   "metadata": {},
   "source": [
    "#### More general errors\n",
    "We showed before that the bit-flip code could also correct for $X$ rotation errors. By the same arguments of linearity and collapse, the Shor code (and most quantum codes we will encounter) can correct any error which is of the form,\n",
    "\\begin{equation}\n",
    "  E_i = e_0 I + e_1X_i + e_2 Y_i + e_3Z_i.\n",
    "\\end{equation}"
   ]
  },
  {
   "cell_type": "markdown",
   "id": "5473ae6f-2929-4064-b7da-64aaaed2054d",
   "metadata": {},
   "source": [
    "#### Task 3 (On paper)\n",
    "Apply $E_i$ to $\\ket{\\bar\\psi}$ and then show that the error-detection circuit will collapse the state to just one of the possible errors."
   ]
  },
  {
   "cell_type": "markdown",
   "id": "dfac7609-c20c-4707-88af-493ac09212bf",
   "metadata": {},
   "source": [
    "**Solve:**\n",
    "\n",
    "\\begin{equation}\n",
    "  E_i = e_0 I + e_1X_i + e_2 Y_i + e_3Z_i.\n",
    "\\end{equation}\n",
    "\n",
    "$E_i$ represents sets of one qubit error. Since, operators in quantum mechanics are linear and errors are unique, so if $E_i$ operates on $\\ket{\\bar\\psi}$, then the outcome will be either $I$ error or $X_i$ error or $Y_i$ or $Z_i$ error. Since, Shor code can detect all of the four errors, so the outcome will be just one of the possible errors. "
   ]
  },
  {
   "cell_type": "markdown",
   "id": "4e595511-3ec1-43d8-b727-8bcac57cfd27",
   "metadata": {},
   "source": [
    "*Question:* Suppose the state $\\ket{\\bar\\psi}$ encoded by the Shor code undergoes the two-qubit error $Z_1Z_2$. What is the impact of this error? This is a phenomena not seen in classical codes.\n",
    "\n",
    "\n",
    "**Solve:**\n",
    "\n",
    "If the state undergoes the two-qubit error $Z_1Z_2$, then the state will remain as before. So, no change will be detected by the error correction code. The impact of this error is equivalent to no error. \n",
    "\n",
    "\n",
    "For example, if $Z_1Z_2$ acts upon $\\ket{\\bar{\\bar{0}}}$, \n",
    "\\begin{align}\n",
    "  Z_1Z_2\\ket{+++} \\to Z_1Z_2\\ket{\\bar{\\bar{0}}} = Z_1Z_2\\frac{(\\ket{000} + \\ket{111})(\\ket{000} + \\ket{111})(\\ket{000} + \\ket{111})}{2\\sqrt{2}}, \\\\\n",
    "  =\\frac{(\\ket{000} + \\ket{(-1)(-1)1})(\\ket{000} + \\ket{111})(\\ket{000} + \\ket{111})}{2\\sqrt{2}}. \\\\\n",
    "  =\\frac{(\\ket{000} + \\ket{111})(\\ket{000} + \\ket{111})(\\ket{000} + \\ket{111})}{2\\sqrt{2}}.\n",
    "\\end{align}\n",
    "\n",
    "Similarly, if $Z_1Z_2$ acts upon $\\ket{\\bar{\\bar{1}}}$, then,\n",
    "\\begin{align} \n",
    "  Z_1Z_2\\ket{---} \\to Z_1Z_2\\ket{\\bar{\\bar{1}}} = Z_1Z_2\\frac{(\\ket{000} - \\ket{111})(\\ket{000} - \\ket{111})(\\ket{000} - \\ket{111})}{2\\sqrt{2}}, \\\\\n",
    "  =\\frac{(\\ket{000} - \\ket{(-1)(-1)1})(\\ket{000} - \\ket{111})(\\ket{000} - \\ket{111})}{2\\sqrt{2}}. \\\\\n",
    "  =\\frac{(\\ket{000} - \\ket{111})(\\ket{000} - \\ket{111})(\\ket{000} - \\ket{111})}{2\\sqrt{2}}.\n",
    "\\end{align}\n",
    "\n",
    "The effect of $Z_4Z_5, Z_7Z_8$, or $Z_2Z_3$ etc. are same. They dont cause any error because they dont change the original state.\n",
    "\n",
    "This is a phenomena not seen in classical codes. Because phase flip doesnt occur in classical codes.\n",
    "\n",
    "\n",
    "*Question:* The Shor can correct some (but not all) two-qubit errors as well. Characterize all these errors. Is there any three-qubit error that the Shor code can handle?\n",
    "\n",
    "**Solve:**\n",
    "\n",
    "Shor code can correct two-qubit errors. This includes two-qubit phase flip errors. Becuase the effect of such error is no error. For example, when two qubits experience the phase flip error, the outcome is no change in the state. So, two-qubit phase flip can be corrected using Shor code.\n",
    "\n",
    "For example, if $Z_1Z_2$ acts upon $\\ket{\\bar{\\bar{0}}}$, \n",
    "\\begin{align}\n",
    "  Z_1Z_2\\ket{+++} \\to Z_1Z_2\\ket{\\bar{\\bar{0}}} = Z_1Z_2\\frac{(\\ket{000} + \\ket{111})(\\ket{000} + \\ket{111})(\\ket{000} + \\ket{111})}{2\\sqrt{2}}, \\\\\n",
    "  =\\frac{(\\ket{000} + \\ket{(-1)(-1)1})(\\ket{000} + \\ket{111})(\\ket{000} + \\ket{111})}{2\\sqrt{2}}. \\\\\n",
    "  =\\frac{(\\ket{000} + \\ket{111})(\\ket{000} + \\ket{111})(\\ket{000} + \\ket{111})}{2\\sqrt{2}}.\n",
    "\\end{align}\n",
    "\n",
    " \n",
    "Similarly, if $Z_1Z_2$ acts upon $\\ket{\\bar{\\bar{1}}}$, then,\n",
    "\\begin{align} \n",
    "  Z_1Z_2\\ket{---} \\to Z_1Z_2\\ket{\\bar{\\bar{1}}} = Z_1Z_2\\frac{(\\ket{000} - \\ket{111})(\\ket{000} - \\ket{111})(\\ket{000} - \\ket{111})}{2\\sqrt{2}}, \\\\\n",
    "  =\\frac{(\\ket{000} - \\ket{(-1)(-1)1})(\\ket{000} - \\ket{111})(\\ket{000} - \\ket{111})}{2\\sqrt{2}}. \\\\\n",
    "  =\\frac{(\\ket{000} - \\ket{111})(\\ket{000} - \\ket{111})(\\ket{000} - \\ket{111})}{2\\sqrt{2}}.\n",
    "\\end{align}\n",
    "\n",
    "The effect of $Z_4Z_5, Z_7Z_8$, or $Z_2Z_3$ etc. are same. They dont cause any error because they dont change the original state.\n",
    "\n",
    "Also, three qubit phase flip can be corrected by Shor code. Because the effect of such error is similar to one-qubit phase flip error. \n",
    "For example, if $Z_1Z_2Z_3$ acts upon $\\ket{\\bar{\\bar{0}}}$,\n",
    "\\begin{align}\n",
    "  Z_1Z_2Z_3\\ket{+++} \\to Z_1Z_2Z_3\\ket{\\bar{\\bar{0}}} = Z_1Z_2Z_3\\frac{(\\ket{000} + \\ket{111})(\\ket{000} + \\ket{111})(\\ket{000} + \\ket{111})}{2\\sqrt{2}}, \\\\\n",
    "  =\\frac{(\\ket{000} + \\ket{(-1)(-1)(-1)})(\\ket{000} + \\ket{111})(\\ket{000} + \\ket{111})}{2\\sqrt{2}}. \\\\\n",
    "  =\\frac{(\\ket{000} - \\ket{111})(\\ket{000} + \\ket{111})(\\ket{000} + \\ket{111})}{2\\sqrt{2}}.\n",
    "\\end{align}\n",
    "\n",
    "Now, if we see the effect of one-qubit phase flip error, we will find that the outcome of three qubit phase flip and one qubit phase flip errors are exactly same.\n",
    "So, if $Z_1$ or $Z_2$ or $Z_3$ acts upon $\\ket{\\bar{\\bar{0}}}$, then, \n",
    "\\begin{align}\n",
    "  Z_1\\ket{\\bar{\\bar{0}}} = \\frac{(\\ket{000} - \\ket{111})(\\ket{000} + \\ket{111})(\\ket{000} + \\ket{111})}{2\\sqrt{2}},   \n",
    "\\end{align}\n",
    "\n",
    "As expected, the result of three qubit and one qubit phase flip are same. Since, Shor code can correct one qubit phase flip, so it is possible to correct three qubit phase flip with this code as well. "
   ]
  },
  {
   "cell_type": "code",
   "execution_count": null,
   "id": "45189efb-af41-4043-9716-d439517ca880",
   "metadata": {},
   "outputs": [],
   "source": []
  }
 ],
 "metadata": {
  "kernelspec": {
   "display_name": "Python 3 (ipykernel)",
   "language": "python",
   "name": "python3"
  },
  "language_info": {
   "codemirror_mode": {
    "name": "ipython",
    "version": 3
   },
   "file_extension": ".py",
   "mimetype": "text/x-python",
   "name": "python",
   "nbconvert_exporter": "python",
   "pygments_lexer": "ipython3",
   "version": "3.10.13"
  },
  "widgets": {
   "application/vnd.jupyter.widget-state+json": {
    "state": {},
    "version_major": 2,
    "version_minor": 0
   }
  }
 },
 "nbformat": 4,
 "nbformat_minor": 5
}
